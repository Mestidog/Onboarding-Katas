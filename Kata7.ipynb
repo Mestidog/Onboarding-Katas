{
 "cells": [
  {
   "cell_type": "markdown",
   "metadata": {},
   "source": [
    "## Kata 7 - Bucles"
   ]
  },
  {
   "cell_type": "markdown",
   "metadata": {},
   "source": [
    "Ejercicio 1"
   ]
  },
  {
   "cell_type": "code",
   "execution_count": 1,
   "metadata": {},
   "outputs": [],
   "source": [
    "# Declaramos 2 variables\n",
    "\n",
    "newPlanet = ''\n",
    "planets = []"
   ]
  },
  {
   "cell_type": "code",
   "execution_count": 3,
   "metadata": {},
   "outputs": [],
   "source": [
    "# Escribe el ciclo while solicitado\n",
    "\n",
    "while newPlanet.lower() != 'done':\n",
    "    if newPlanet:\n",
    "        planets.append(newPlanet)\n",
    "    newPlanet = input('Enter a new planet ')"
   ]
  },
  {
   "cell_type": "markdown",
   "metadata": {},
   "source": [
    "Ejercicio 2"
   ]
  },
  {
   "cell_type": "code",
   "execution_count": 4,
   "metadata": {},
   "outputs": [
    {
     "name": "stdout",
     "output_type": "stream",
     "text": [
      "Uno\n",
      "Dos\n",
      "Tres\n",
      "Cuatro\n",
      "Cinco\n"
     ]
    }
   ],
   "source": [
    "# Escribe tu ciclo for para iterar en una lista de planetas\n",
    "\n",
    "for planet in planets:\n",
    "    print(planet)"
   ]
  }
 ],
 "metadata": {
  "interpreter": {
   "hash": "c5945397462695b720011818cb237bf578fb8ee89454d8c63bc71f901f2755d1"
  },
  "kernelspec": {
   "display_name": "Python 3.10.2 64-bit",
   "language": "python",
   "name": "python3"
  },
  "language_info": {
   "codemirror_mode": {
    "name": "ipython",
    "version": 3
   },
   "file_extension": ".py",
   "mimetype": "text/x-python",
   "name": "python",
   "nbconvert_exporter": "python",
   "pygments_lexer": "ipython3",
   "version": "3.10.2"
  },
  "orig_nbformat": 4
 },
 "nbformat": 4,
 "nbformat_minor": 2
}
