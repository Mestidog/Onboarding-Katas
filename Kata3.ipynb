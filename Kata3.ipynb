{
 "cells": [
  {
   "cell_type": "markdown",
   "metadata": {},
   "source": [
    "## Kata 3 - Lógica booleana"
   ]
  },
  {
   "cell_type": "code",
   "execution_count": 1,
   "metadata": {},
   "outputs": [
    {
     "name": "stdout",
     "output_type": "stream",
     "text": [
      "ALERTA! Asteroide aproximándose demasiado rápido a la Tierra.\n"
     ]
    }
   ],
   "source": [
    "# Añadir el código necesario para crear una variable que guarde la velocidad del asteroide.\n",
    "# Escribe una expresión de prueba para calcular si necesita una advertencia.\n",
    "# Agregue las instrucciones que se ejecutarán si la expresión de prueba es true o false.\n",
    "\n",
    "velocidadAsteroide = 49\n",
    "\n",
    "if (velocidadAsteroide > 25):\n",
    "    print(\"ALERTA! Asteroide aproximándose demasiado rápido a la Tierra.\")\n",
    "else:\n",
    "    print(\"Todo bien.\")"
   ]
  },
  {
   "cell_type": "code",
   "execution_count": 2,
   "metadata": {},
   "outputs": [
    {
     "name": "stdout",
     "output_type": "stream",
     "text": [
      "Todo bien, nada que ver aquí.\n"
     ]
    }
   ],
   "source": [
    "# Agrega el código para crear una variable para un asteroide que viaja a 19 km/s\n",
    "# Escribe varias expresiones de prueba para determinar si puedes ver el rayo de luz desde la tierra\n",
    "# Agrega las instrucciones que se ejecutarán si las expresiones de prueba son True o False\n",
    "\n",
    "velocidadAsteroide = 19\n",
    "\n",
    "if (velocidadAsteroide > 20):\n",
    "    print(\"ATENCIÓN! Asteroide visible en el cielo.\")\n",
    "elif (velocidadAsteroide == 20):\n",
    "    print(\"ATENCIÓN! Asteroide visible en el cielo.\")\n",
    "else:\n",
    "    print(\"Todo bien, nada que ver aquí.\")"
   ]
  },
  {
   "cell_type": "code",
   "execution_count": 4,
   "metadata": {},
   "outputs": [
    {
     "name": "stdout",
     "output_type": "stream",
     "text": [
      "ATENCIÓN! Asteroide visible en el cielo.\n"
     ]
    }
   ],
   "source": [
    "# Agrega el código para crear nuevas variables para la velocidad y el tamaño del asteroide\n",
    "# Para probar el código, prueba con varias velocidades y tamaños\n",
    "# Escribe varias expresiones de prueba o combinaciones de expresiones de prueba para determinar qué mensaje se debe enviar a Tierra.\n",
    "\n",
    "velocidadAsteroide = 25\n",
    "tamanoAsteroide = 40\n",
    "if (velocidadAsteroide > 25 and tamanoAsteroide > 25):\n",
    "    print(\"ALERTA! Asteroide aproximándose demasiado rápido a la Tierra.\")\n",
    "elif (velocidadAsteroide >= 20):\n",
    "    print(\"ATENCIÓN! Asteroide visible en el cielo.\")\n",
    "elif (tamanoAsteroide < 25):\n",
    "    print(\"Todo bien, nada que ver aquí.\")\n",
    "else:\n",
    "    print(\"Todo bien, nada que ver aquí.\")"
   ]
  }
 ],
 "metadata": {
  "interpreter": {
   "hash": "c5945397462695b720011818cb237bf578fb8ee89454d8c63bc71f901f2755d1"
  },
  "kernelspec": {
   "display_name": "Python 3.10.2 64-bit",
   "language": "python",
   "name": "python3"
  },
  "language_info": {
   "codemirror_mode": {
    "name": "ipython",
    "version": 3
   },
   "file_extension": ".py",
   "mimetype": "text/x-python",
   "name": "python",
   "nbconvert_exporter": "python",
   "pygments_lexer": "ipython3",
   "version": "3.10.2"
  },
  "orig_nbformat": 4
 },
 "nbformat": 4,
 "nbformat_minor": 2
}
